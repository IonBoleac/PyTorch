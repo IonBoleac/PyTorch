{
 "cells": [
  {
   "cell_type": "markdown",
   "metadata": {},
   "source": [
    "# Learn PyTorch with Examples\n",
    "I used this tutorial to lean PyTorch and ypu may find it useful too. \n",
    "Link from i learn this tutorial is [here](https://www.learnpytorch.io/)"
   ]
  },
  {
   "cell_type": "markdown",
   "metadata": {},
   "source": [
    "## Introduction: 00_PyTorch Fundamentals\n",
    "### 01_Tensors\n",
    "Link to the tutorial is here(https://www.learnpytorch.io/00_pytorch_fundamentals/)\n",
    "\n",
    "In the next section you can find first things to understand PyTorch."
   ]
  },
  {
   "cell_type": "code",
   "execution_count": 38,
   "metadata": {},
   "outputs": [
    {
     "name": "stdout",
     "output_type": "stream",
     "text": [
      "scalar tensor(7)\n",
      "scalar ndim 0\n",
      "scalar shape torch.Size([])\n",
      "scalar size torch.Size([])\n",
      "scalar item 7\n",
      "TENSOR tensor([[[1, 2, 3],\n",
      "         [3, 6, 9],\n",
      "         [2, 4, 5],\n",
      "         [1, 2, 3]],\n",
      "\n",
      "        [[1, 2, 3],\n",
      "         [3, 6, 9],\n",
      "         [2, 4, 5],\n",
      "         [1, 2, 3]]])\n",
      "TENSOR ndim 3\n",
      "TENSOR shape torch.Size([2, 4, 3])\n",
      "TENSOR size torch.Size([2, 4, 3])\n",
      "random_tensor, random_tensor.dtype tensor([[0.6139, 0.1546, 0.6862, 0.1199],\n",
      "        [0.7357, 0.5882, 0.7889, 0.8312],\n",
      "        [0.1161, 0.6175, 0.9927, 0.8689]]) torch.float32\n",
      "random_image_size_tensor.shape, random_image_size_tensor.ndim\n",
      " torch.Size([224, 224, 3]) 3\n",
      "zeros, zeros.dtype tensor([[0., 0., 0., 0.],\n",
      "        [0., 0., 0., 0.],\n",
      "        [0., 0., 0., 0.]]) torch.float32\n",
      "ones, ones.dtype tensor([[1., 1., 1., 1.],\n",
      "        [1., 1., 1., 1.],\n",
      "        [1., 1., 1., 1.]]) torch.float32\n",
      "zero_to_ten tensor([0, 1, 2, 3, 4, 5, 6, 7, 8, 9])\n",
      "ten_zeros tensor([0, 0, 0, 0, 0, 0, 0, 0, 0, 0])\n",
      "tensor cuda tensor([[1., 1., 1.],\n",
      "        [1., 1., 1.],\n",
      "        [1., 1., 1.]], device='cuda:0')\n",
      "float_32_tensor.shape, float_32_tensor.dtype, float_32_tensor.device, float_32_tensor.requires_grad torch.Size([3]) torch.float32 cpu False\n",
      "tensor tensor([[1, 2, 3],\n",
      "        [4, 5, 6]])\n",
      "tensor.shape torch.Size([2, 3])\n",
      "tensor.dtype torch.int64\n",
      "tensor.device cpu\n",
      "moltiplicazione matriciale,  tensor([[ 27.,  30.,  33.],\n",
      "        [ 61.,  68.,  75.],\n",
      "        [ 95., 106., 117.]])\n",
      "Input shape: torch.Size([3, 2])\n",
      "\n",
      "Output:\n",
      "tensor([[2.2368, 1.2292, 0.4714, 0.3864, 0.1309, 0.9838],\n",
      "        [4.4919, 2.1970, 0.4469, 0.5285, 0.3401, 2.4777],\n",
      "        [6.7469, 3.1648, 0.4224, 0.6705, 0.5493, 3.9716]],\n",
      "       grad_fn=<AddmmBackward0>)\n",
      "\n",
      "Output shape: torch.Size([3, 6])\n"
     ]
    }
   ],
   "source": [
    "import torch\n",
    "\n",
    "torch.__version__\n",
    "\n",
    "# Scalar\n",
    "scalar = torch.tensor(7)\n",
    "print(\"scalar\",scalar)\n",
    "print(\"scalar ndim\",scalar.ndim)\n",
    "print(\"scalar shape\",scalar.shape)\n",
    "print(\"scalar size\",scalar.size())\n",
    "print(\"scalar item\",scalar.item())\n",
    "\n",
    "# Matrix\n",
    "TENSOR = torch.tensor([[[1, 2, 3],\n",
    "                        [3, 6, 9],\n",
    "                        [2, 4, 5],\n",
    "                        [1, 2, 3]],\n",
    "                        [[1, 2, 3],\n",
    "                        [3, 6, 9],\n",
    "                        [2, 4, 5],\n",
    "                        [1, 2, 3]]])\n",
    "print(\"TENSOR\",TENSOR)\n",
    "print(\"TENSOR ndim\",TENSOR.ndim)\n",
    "print(\"TENSOR shape\",TENSOR.shape)\n",
    "# output: torch.Size([2, 4, 3]) that means 2 matrix of 4 rows and 3 columns\n",
    "print(\"TENSOR size\",TENSOR.size())\n",
    "\n",
    "# Create a random tensor of size (3, 4)\n",
    "random_tensor = torch.rand(size=(3, 4))\n",
    "print(\"random_tensor, random_tensor.dtype\", random_tensor, random_tensor.dtype)\n",
    "\n",
    "# Create a random tensor of size (224, 224, 3)\n",
    "random_image_size_tensor = torch.rand(size=(224, 224, 3))\n",
    "print(\"random_image_size_tensor.shape, random_image_size_tensor.ndim\\n\", random_image_size_tensor.shape, random_image_size_tensor.ndim)\n",
    "\n",
    "# Create a tensor of all zeros\n",
    "zeros = torch.zeros(size=(3, 4))\n",
    "print(\"zeros, zeros.dtype\", zeros, zeros.dtype)\n",
    "\n",
    "\n",
    "# Create a tensor of all ones\n",
    "ones = torch.ones(size=(3, 4))\n",
    "print(\"ones, ones.dtype\", ones, ones.dtype)\n",
    "\n",
    "\n",
    "# Create a range of values 0 to 10\n",
    "zero_to_ten = torch.arange(start=0, end=10, step=1)\n",
    "print(\"zero_to_ten\", zero_to_ten)\n",
    "\n",
    "# Can also create a tensor of zeros similar to another tensor\n",
    "ten_zeros = torch.zeros_like(input=zero_to_ten) # will have same shape\n",
    "print(\"ten_zeros\", ten_zeros)\n",
    "\n",
    "\n",
    "#create a tensor on gpu \n",
    "if torch.cuda.is_available():\n",
    "    tensor = torch.ones(size=(3, 3), device=\"cuda\")\n",
    "print(\"tensor cuda\",tensor)\n",
    "\n",
    "# Default datatype for tensors is float32\n",
    "float_32_tensor = torch.tensor([3.0, 6.0, 9.0],\n",
    "                               dtype=None, # defaults to None, which is torch.float32 or whatever datatype is passed\n",
    "                               device=None, # defaults to None, which uses the default tensor type\n",
    "                               requires_grad=False) # if True, operations performed on the tensor are recorded \n",
    "\n",
    "print(\"float_32_tensor.shape, float_32_tensor.dtype, float_32_tensor.device, float_32_tensor.requires_grad\", float_32_tensor.shape, float_32_tensor.dtype, float_32_tensor.device, float_32_tensor.requires_grad)\n",
    "\n",
    "tensor = torch.tensor([[1, 2, 3],\n",
    "                       [4, 5, 6]])\n",
    "tensor1 = torch.tensor([[1, 2],\n",
    "                       [3, 4],\n",
    "                       [5, 6]])\n",
    "print(\"tensor\", tensor)\n",
    "print(\"tensor.shape\", tensor.shape)\n",
    "print(\"tensor.dtype\", tensor.dtype)\n",
    "print(\"tensor.device\", tensor.device)"
   ]
  },
  {
   "cell_type": "code",
   "execution_count": 39,
   "metadata": {},
   "outputs": [
    {
     "name": "stdout",
     "output_type": "stream",
     "text": [
      "moltiplicazione matriciale,  tensor([[ 27.,  30.,  33.],\n",
      "        [ 61.,  68.,  75.],\n",
      "        [ 95., 106., 117.]])\n",
      "Input shape: torch.Size([3, 2])\n",
      "\n",
      "Output:\n",
      "tensor([[2.2368, 1.2292, 0.4714, 0.3864, 0.1309, 0.9838],\n",
      "        [4.4919, 2.1970, 0.4469, 0.5285, 0.3401, 2.4777],\n",
      "        [6.7469, 3.1648, 0.4224, 0.6705, 0.5493, 3.9716]],\n",
      "       grad_fn=<AddmmBackward0>)\n",
      "\n",
      "Output shape: torch.Size([3, 6])\n"
     ]
    }
   ],
   "source": [
    "import torch\n",
    "\n",
    "\n",
    "\n",
    "# Shapes need to be in the right way  \n",
    "tensor_A = torch.tensor([[1, 2],\n",
    "                         [3, 4],\n",
    "                         [5, 6]], dtype=torch.float32)\n",
    "\n",
    "tensor_B = torch.tensor([[7, 10],\n",
    "                         [8, 11], \n",
    "                         [9, 12]], dtype=torch.float32)\n",
    "print(\"moltiplicazione matriciale, \", torch.matmul(tensor_A, tensor_B.T))\n",
    "# you can also use all algebraic operations on tensors\n",
    "\n",
    "# linear layer\n",
    "# Since the linear layer starts with a random weights matrix, let's make it reproducible (more on this later)\n",
    "torch.manual_seed(42)\n",
    "# This uses matrix multiplication\n",
    "linear = torch.nn.Linear(in_features=2, # in_features = matches inner dimension of input \n",
    "                         out_features=6) # out_features = describes outer value \n",
    "x = tensor_A\n",
    "output = linear(x)\n",
    "print(f\"Input shape: {x.shape}\\n\")\n",
    "print(f\"Output:\\n{output}\\n\\nOutput shape: {output.shape}\")"
   ]
  },
  {
   "cell_type": "code",
   "execution_count": 12,
   "metadata": {},
   "outputs": [
    {
     "name": "stdout",
     "output_type": "stream",
     "text": [
      "tensor([1, 2, 3]) cpu\n"
     ]
    },
    {
     "data": {
      "text/plain": [
       "tensor([1, 2, 3], device='cuda:0')"
      ]
     },
     "execution_count": 12,
     "metadata": {},
     "output_type": "execute_result"
    }
   ],
   "source": [
    "import torch\n",
    "# Set device type\n",
    "device = \"cuda\" if torch.cuda.is_available() else \"cpu\"\n",
    "\n",
    "# Count number of devices\n",
    "torch.cuda.device_count()\n",
    "\n",
    "# Create tensor (default on CPU)\n",
    "tensor = torch.tensor([1, 2, 3])\n",
    "\n",
    "# Tensor not on GPU\n",
    "print(tensor, tensor.device)\n",
    "\n",
    "# Move tensor to GPU (if available)\n",
    "tensor_on_gpu = tensor.to(device)\n",
    "tensor_on_gpu\n",
    "\n",
    "# If tensor is on GPU, can't transform it to NumPy (this will error)\n",
    "#tensor_on_gpu.numpy()\n",
    "\n",
    "# Instead, copy the tensor back to cpu\n",
    "tensor_back_on_cpu = tensor_on_gpu.cpu().numpy()\n",
    "tensor_back_on_cpu\n",
    "tensor_on_gpu"
   ]
  },
  {
   "cell_type": "markdown",
   "metadata": {},
   "source": [
    "# Exercise 1\n"
   ]
  },
  {
   "cell_type": "code",
   "execution_count": 29,
   "metadata": {},
   "outputs": [
    {
     "name": "stdout",
     "output_type": "stream",
     "text": [
      "matmult tensor([[2.0534],\n",
      "        [2.3578],\n",
      "        [1.8793],\n",
      "        [1.6912],\n",
      "        [2.5042],\n",
      "        [2.0659],\n",
      "        [1.9022]], device='cuda:0') matmult.shape torch.Size([7, 1]) matmult.device cuda:0\n"
     ]
    }
   ],
   "source": [
    "import torch\n",
    "# create a random tensor with shape (7, 7)\n",
    "device = \"cuda\" if torch.cuda.is_available() else \"cpu\"\n",
    "#device = \"cpu\"\n",
    "\n",
    "torch.manual_seed(0)\n",
    "\n",
    "tensor = torch.rand(7,7, device=device)\n",
    "tensor1 = torch.rand(1, 7, device=device)\n",
    "\n",
    "matmult = torch.matmul(tensor, tensor1.T)\n",
    "print(\"matmult\", matmult, \"matmult.shape\", matmult.shape, \"matmult.device\", matmult.device)\n"
   ]
  }
 ],
 "metadata": {
  "kernelspec": {
   "display_name": "venv",
   "language": "python",
   "name": "python3"
  },
  "language_info": {
   "codemirror_mode": {
    "name": "ipython",
    "version": 3
   },
   "file_extension": ".py",
   "mimetype": "text/x-python",
   "name": "python",
   "nbconvert_exporter": "python",
   "pygments_lexer": "ipython3",
   "version": "3.10.12"
  }
 },
 "nbformat": 4,
 "nbformat_minor": 2
}
